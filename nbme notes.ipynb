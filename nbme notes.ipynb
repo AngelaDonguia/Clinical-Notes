{
 "cells": [
  {
   "cell_type": "markdown",
   "id": "193ec69f",
   "metadata": {
    "papermill": {
     "duration": 0.032926,
     "end_time": "2022-02-09T14:49:27.414801",
     "exception": false,
     "start_time": "2022-02-09T14:49:27.381875",
     "status": "completed"
    },
    "tags": []
   },
   "source": [
    "# Importing Liberaries 📚"
   ]
  },
  {
   "cell_type": "code",
   "execution_count": 1,
   "id": "03ebae1d",
   "metadata": {
    "_cell_guid": "b1076dfc-b9ad-4769-8c92-a6c4dae69d19",
    "_uuid": "8f2839f25d086af736a60e9eeb907d3b93b6e0e5",
    "execution": {
     "iopub.execute_input": "2022-02-09T14:49:27.487209Z",
     "iopub.status.busy": "2022-02-09T14:49:27.485494Z",
     "iopub.status.idle": "2022-02-09T14:49:38.184795Z",
     "shell.execute_reply": "2022-02-09T14:49:38.184132Z",
     "shell.execute_reply.started": "2022-02-07T15:17:17.638061Z"
    },
    "papermill": {
     "duration": 10.73693,
     "end_time": "2022-02-09T14:49:38.184977",
     "exception": false,
     "start_time": "2022-02-09T14:49:27.448047",
     "status": "completed"
    },
    "tags": []
   },
   "outputs": [],
   "source": [
    "import warnings\n",
    "import numpy as np\n",
    "import pandas as pd\n",
    "import seaborn as sns\n",
    "import matplotlib.pyplot as plt\n",
    "import random"
   ]
  },
  {
   "cell_type": "markdown",
   "id": "4bf90f06",
   "metadata": {},
   "source": [
    "# Loading Data 📑"
   ]
  },
  {
   "cell_type": "code",
   "execution_count": 89,
   "id": "17cd38fa",
   "metadata": {
    "_kg_hide-input": true,
    "execution": {
     "iopub.execute_input": "2022-02-09T14:49:38.257054Z",
     "iopub.status.busy": "2022-02-09T14:49:38.256092Z",
     "iopub.status.idle": "2022-02-09T14:49:39.147701Z",
     "shell.execute_reply": "2022-02-09T14:49:39.146621Z",
     "shell.execute_reply.started": "2022-02-07T15:17:28.372758Z"
    },
    "papermill": {
     "duration": 0.927965,
     "end_time": "2022-02-09T14:49:39.147886",
     "exception": false,
     "start_time": "2022-02-09T14:49:38.219921",
     "status": "completed"
    },
    "tags": []
   },
   "outputs": [],
   "source": [
    "# Loading the CSV File\n",
    "train = pd.read_csv(\"train.csv\")\n",
    "test = pd.read_csv(\"test.csv\")\n",
    "features = pd.read_csv(\"features.csv\")\n",
    "patient_notes = pd.read_csv(\"patient_notes.csv\")\n",
    "submission = pd.read_csv(\"sample_submission.csv\")\n",
    "\n",
    "warnings.filterwarnings('ignore')"
   ]
  },
  {
   "cell_type": "markdown",
   "id": "df2454ea",
   "metadata": {
    "papermill": {
     "duration": 0.033192,
     "end_time": "2022-02-09T14:49:39.285467",
     "exception": false,
     "start_time": "2022-02-09T14:49:39.252275",
     "status": "completed"
    },
    "tags": []
   },
   "source": [
    "# Functions"
   ]
  },
  {
   "cell_type": "code",
   "execution_count": 101,
   "id": "d1bd2f30",
   "metadata": {},
   "outputs": [],
   "source": [
    "def dataset_information(df):\n",
    "    print('Dataset Information')\n",
    "    print('-------------------')\n",
    "    print(f'Number of rows: {df.shape[0]}')\n",
    "    print(f'Number of columns: {df.shape[1]}')\n",
    "    print(f'Number of total values: {df.size}')\n",
    "    print(f'Number of missing values \\n{df.isnull().sum()}')\n",
    "    print()"
   ]
  },
  {
   "cell_type": "markdown",
   "id": "6bdcb79b",
   "metadata": {},
   "source": [
    "# Numerical Analysis"
   ]
  },
  {
   "cell_type": "markdown",
   "id": "71f65b5e",
   "metadata": {
    "papermill": {
     "duration": 0.033265,
     "end_time": "2022-02-09T14:49:39.551634",
     "exception": false,
     "start_time": "2022-02-09T14:49:39.518369",
     "status": "completed"
    },
    "tags": []
   },
   "source": [
    "## Train Dataset Information"
   ]
  },
  {
   "cell_type": "markdown",
   "id": "5ed4c796",
   "metadata": {
    "papermill": {
     "duration": 0.033098,
     "end_time": "2022-02-09T14:49:39.484994",
     "exception": false,
     "start_time": "2022-02-09T14:49:39.451896",
     "status": "completed"
    },
    "tags": []
   },
   "source": [
    "**Column Description**\n",
    "\n",
    "| Column Name | Data Type | Description |\n",
    "|------------|-----------|-------------|\n",
    "| id | int | Unique identifier for each patient note / feature pair. |\n",
    "| pn_num | int | The patient note annotated in this row. |\n",
    "| feature_num | int | The feature annotated in this row. |\n",
    "| case_num | int | The case to which this patient note belongs. |\n",
    "| annotation | str | The text(s) within a patient note indicating a feature. A feature may be indicated multiple times within a single note. |\n",
    "| location | str | Character spans indicating the location of each annotation within the note. Multiple spans may be needed to represent an annotation, in which case the spans are delimited by a semicolon ;. |\n",
    " \n"
   ]
  },
  {
   "cell_type": "code",
   "execution_count": 39,
   "id": "ff587bf9",
   "metadata": {
    "_kg_hide-input": true,
    "execution": {
     "iopub.execute_input": "2022-02-09T14:49:39.623497Z",
     "iopub.status.busy": "2022-02-09T14:49:39.622792Z",
     "iopub.status.idle": "2022-02-09T14:49:39.654399Z",
     "shell.execute_reply": "2022-02-09T14:49:39.654908Z",
     "shell.execute_reply.started": "2022-02-07T15:17:29.045624Z"
    },
    "papermill": {
     "duration": 0.070187,
     "end_time": "2022-02-09T14:49:39.655085",
     "exception": false,
     "start_time": "2022-02-09T14:49:39.584898",
     "status": "completed"
    },
    "tags": []
   },
   "outputs": [
    {
     "name": "stdout",
     "output_type": "stream",
     "text": [
      "Dataset Information\n",
      "-------------------\n",
      "Number of rows: 14300\n",
      "Number of columns: 7\n",
      "Number of total values: 100100\n",
      "Number of missing values \n",
      "id             0\n",
      "case_num       0\n",
      "pn_num         0\n",
      "feature_num    0\n",
      "annotation     0\n",
      "location       0\n",
      "annot_count    0\n",
      "dtype: int64\n",
      "\n"
     ]
    }
   ],
   "source": [
    "dataset_information(train)"
   ]
  },
  {
   "cell_type": "code",
   "execution_count": 40,
   "id": "f15a968b",
   "metadata": {},
   "outputs": [
    {
     "data": {
      "text/html": [
       "<div>\n",
       "<style scoped>\n",
       "    .dataframe tbody tr th:only-of-type {\n",
       "        vertical-align: middle;\n",
       "    }\n",
       "\n",
       "    .dataframe tbody tr th {\n",
       "        vertical-align: top;\n",
       "    }\n",
       "\n",
       "    .dataframe thead th {\n",
       "        text-align: right;\n",
       "    }\n",
       "</style>\n",
       "<table border=\"1\" class=\"dataframe\">\n",
       "  <thead>\n",
       "    <tr style=\"text-align: right;\">\n",
       "      <th></th>\n",
       "      <th>id</th>\n",
       "      <th>case_num</th>\n",
       "      <th>pn_num</th>\n",
       "      <th>feature_num</th>\n",
       "      <th>annotation</th>\n",
       "      <th>location</th>\n",
       "      <th>annot_count</th>\n",
       "    </tr>\n",
       "  </thead>\n",
       "  <tbody>\n",
       "    <tr>\n",
       "      <th>0</th>\n",
       "      <td>00016_000</td>\n",
       "      <td>0</td>\n",
       "      <td>16</td>\n",
       "      <td>0</td>\n",
       "      <td>[dad with recent heart attcak]</td>\n",
       "      <td>[696 724]</td>\n",
       "      <td>1</td>\n",
       "    </tr>\n",
       "    <tr>\n",
       "      <th>1</th>\n",
       "      <td>00016_001</td>\n",
       "      <td>0</td>\n",
       "      <td>16</td>\n",
       "      <td>1</td>\n",
       "      <td>[mom with \"thyroid disease]</td>\n",
       "      <td>[668 693]</td>\n",
       "      <td>1</td>\n",
       "    </tr>\n",
       "    <tr>\n",
       "      <th>2</th>\n",
       "      <td>00016_002</td>\n",
       "      <td>0</td>\n",
       "      <td>16</td>\n",
       "      <td>2</td>\n",
       "      <td>[chest pressure]</td>\n",
       "      <td>[203 217]</td>\n",
       "      <td>1</td>\n",
       "    </tr>\n",
       "    <tr>\n",
       "      <th>3</th>\n",
       "      <td>00016_003</td>\n",
       "      <td>0</td>\n",
       "      <td>16</td>\n",
       "      <td>3</td>\n",
       "      <td>[intermittent episodes, episode]</td>\n",
       "      <td>[70 91, 176 183]</td>\n",
       "      <td>2</td>\n",
       "    </tr>\n",
       "    <tr>\n",
       "      <th>4</th>\n",
       "      <td>00016_004</td>\n",
       "      <td>0</td>\n",
       "      <td>16</td>\n",
       "      <td>4</td>\n",
       "      <td>[felt as if he were going to pass out]</td>\n",
       "      <td>[222 258]</td>\n",
       "      <td>1</td>\n",
       "    </tr>\n",
       "  </tbody>\n",
       "</table>\n",
       "</div>"
      ],
      "text/plain": [
       "          id  case_num  pn_num  feature_num  \\\n",
       "0  00016_000         0      16            0   \n",
       "1  00016_001         0      16            1   \n",
       "2  00016_002         0      16            2   \n",
       "3  00016_003         0      16            3   \n",
       "4  00016_004         0      16            4   \n",
       "\n",
       "                               annotation          location  annot_count  \n",
       "0          [dad with recent heart attcak]         [696 724]            1  \n",
       "1             [mom with \"thyroid disease]         [668 693]            1  \n",
       "2                        [chest pressure]         [203 217]            1  \n",
       "3        [intermittent episodes, episode]  [70 91, 176 183]            2  \n",
       "4  [felt as if he were going to pass out]         [222 258]            1  "
      ]
     },
     "execution_count": 40,
     "metadata": {},
     "output_type": "execute_result"
    }
   ],
   "source": [
    "train.head()"
   ]
  },
  {
   "cell_type": "code",
   "execution_count": 54,
   "id": "a59a0beb",
   "metadata": {},
   "outputs": [
    {
     "name": "stdout",
     "output_type": "stream",
     "text": [
      "Number of unique patients: 1000\n",
      "Number of unique notes: 10\n"
     ]
    }
   ],
   "source": [
    "# Question 1\n",
    "# How many unique patients are in the dataset?\n",
    "print(f'Number of unique patients: {train[\"pn_num\"].nunique()}')\n",
    "\n",
    "# Question 2\n",
    "# How many unique notes are in the dataset?\n",
    "print(f'Number of unique notes: {train[\"case_num\"].nunique()}')"
   ]
  },
  {
   "cell_type": "markdown",
   "id": "c2dbe2e8",
   "metadata": {},
   "source": [
    "## Overview"
   ]
  },
  {
   "cell_type": "markdown",
   "id": "489cc5a5",
   "metadata": {
    "papermill": {
     "duration": 0.033094,
     "end_time": "2022-02-09T14:49:39.351991",
     "exception": false,
     "start_time": "2022-02-09T14:49:39.318897",
     "status": "completed"
    },
    "tags": []
   },
   "source": [
    "From the observation above, it is clear that we have:\n",
    " \n",
    "* <i> Total of <b>6</b> columns and <b>14300</b> rows in <b>train</b> data.</i><br>\n",
    "* <i> Train data contains <b>85800</b> observation with <b>0</b> missing values.</i><br>\n",
    "* <i> <b>1000</b> unique patient ids and <b>10</b> unique cases are present.</i><br>\n",
    "* <i> Multilple annotations and locations are present in single rows. </i><br>\n",
    "</div>"
   ]
  },
  {
   "cell_type": "markdown",
   "id": "eefd04c2",
   "metadata": {
    "papermill": {
     "duration": 0.036275,
     "end_time": "2022-02-09T14:49:39.800860",
     "exception": false,
     "start_time": "2022-02-09T14:49:39.764585",
     "status": "completed"
    },
    "tags": []
   },
   "source": [
    "## Test Dataset Information"
   ]
  },
  {
   "cell_type": "markdown",
   "id": "e900c269",
   "metadata": {
    "papermill": {
     "duration": 0.035891,
     "end_time": "2022-02-09T14:49:40.255869",
     "exception": false,
     "start_time": "2022-02-09T14:49:40.219978",
     "status": "completed"
    },
    "tags": []
   },
   "source": [
    "**Column Description**\n",
    "| Column Name | Data Type | Description |\n",
    "|------------|-----------|-------------|\n",
    "| pn_num | int | Unique identifier for each patient note. |\n",
    "| case_num | int | A unique identifier for the clinical case a patient note represents. |\n",
    "| pn_history | str | The text of the encounter as recorded by the test taker. |"
   ]
  },
  {
   "cell_type": "code",
   "execution_count": 55,
   "id": "942d26bf",
   "metadata": {
    "_kg_hide-input": true,
    "execution": {
     "iopub.execute_input": "2022-02-09T14:49:39.949818Z",
     "iopub.status.busy": "2022-02-09T14:49:39.949148Z",
     "iopub.status.idle": "2022-02-09T14:49:39.964233Z",
     "shell.execute_reply": "2022-02-09T14:49:39.964782Z",
     "shell.execute_reply.started": "2022-02-07T15:17:29.077576Z"
    },
    "papermill": {
     "duration": 0.054974,
     "end_time": "2022-02-09T14:49:39.964965",
     "exception": false,
     "start_time": "2022-02-09T14:49:39.909991",
     "status": "completed"
    },
    "tags": []
   },
   "outputs": [
    {
     "name": "stdout",
     "output_type": "stream",
     "text": [
      "Dataset Information\n",
      "-------------------\n",
      "Number of rows: 5\n",
      "Number of columns: 4\n",
      "Number of total values: 20\n",
      "Number of missing values \n",
      "id             0\n",
      "case_num       0\n",
      "pn_num         0\n",
      "feature_num    0\n",
      "dtype: int64\n",
      "\n"
     ]
    }
   ],
   "source": [
    "dataset_information(test)"
   ]
  },
  {
   "cell_type": "code",
   "execution_count": 56,
   "id": "d3bf70bb",
   "metadata": {},
   "outputs": [
    {
     "data": {
      "text/html": [
       "<div>\n",
       "<style scoped>\n",
       "    .dataframe tbody tr th:only-of-type {\n",
       "        vertical-align: middle;\n",
       "    }\n",
       "\n",
       "    .dataframe tbody tr th {\n",
       "        vertical-align: top;\n",
       "    }\n",
       "\n",
       "    .dataframe thead th {\n",
       "        text-align: right;\n",
       "    }\n",
       "</style>\n",
       "<table border=\"1\" class=\"dataframe\">\n",
       "  <thead>\n",
       "    <tr style=\"text-align: right;\">\n",
       "      <th></th>\n",
       "      <th>id</th>\n",
       "      <th>case_num</th>\n",
       "      <th>pn_num</th>\n",
       "      <th>feature_num</th>\n",
       "    </tr>\n",
       "  </thead>\n",
       "  <tbody>\n",
       "    <tr>\n",
       "      <th>0</th>\n",
       "      <td>00016_000</td>\n",
       "      <td>0</td>\n",
       "      <td>16</td>\n",
       "      <td>0</td>\n",
       "    </tr>\n",
       "    <tr>\n",
       "      <th>1</th>\n",
       "      <td>00016_001</td>\n",
       "      <td>0</td>\n",
       "      <td>16</td>\n",
       "      <td>1</td>\n",
       "    </tr>\n",
       "    <tr>\n",
       "      <th>2</th>\n",
       "      <td>00016_002</td>\n",
       "      <td>0</td>\n",
       "      <td>16</td>\n",
       "      <td>2</td>\n",
       "    </tr>\n",
       "    <tr>\n",
       "      <th>3</th>\n",
       "      <td>00016_003</td>\n",
       "      <td>0</td>\n",
       "      <td>16</td>\n",
       "      <td>3</td>\n",
       "    </tr>\n",
       "    <tr>\n",
       "      <th>4</th>\n",
       "      <td>00016_004</td>\n",
       "      <td>0</td>\n",
       "      <td>16</td>\n",
       "      <td>4</td>\n",
       "    </tr>\n",
       "  </tbody>\n",
       "</table>\n",
       "</div>"
      ],
      "text/plain": [
       "          id  case_num  pn_num  feature_num\n",
       "0  00016_000         0      16            0\n",
       "1  00016_001         0      16            1\n",
       "2  00016_002         0      16            2\n",
       "3  00016_003         0      16            3\n",
       "4  00016_004         0      16            4"
      ]
     },
     "execution_count": 56,
     "metadata": {},
     "output_type": "execute_result"
    }
   ],
   "source": [
    "test.head()"
   ]
  },
  {
   "cell_type": "markdown",
   "id": "4197e23b",
   "metadata": {
    "papermill": {
     "duration": 0.037425,
     "end_time": "2022-02-09T14:49:40.330914",
     "exception": false,
     "start_time": "2022-02-09T14:49:40.293489",
     "status": "completed"
    },
    "tags": []
   },
   "source": [
    "## Patient Notes Data Information"
   ]
  },
  {
   "cell_type": "code",
   "execution_count": 57,
   "id": "97c6ae6d",
   "metadata": {
    "_kg_hide-input": true,
    "execution": {
     "iopub.execute_input": "2022-02-09T14:49:40.410567Z",
     "iopub.status.busy": "2022-02-09T14:49:40.409534Z",
     "iopub.status.idle": "2022-02-09T14:49:40.429148Z",
     "shell.execute_reply": "2022-02-09T14:49:40.429581Z",
     "shell.execute_reply.started": "2022-02-07T15:17:29.093057Z"
    },
    "papermill": {
     "duration": 0.061323,
     "end_time": "2022-02-09T14:49:40.429778",
     "exception": false,
     "start_time": "2022-02-09T14:49:40.368455",
     "status": "completed"
    },
    "tags": []
   },
   "outputs": [
    {
     "name": "stdout",
     "output_type": "stream",
     "text": [
      "Dataset Information\n",
      "-------------------\n",
      "Number of rows: 42146\n",
      "Number of columns: 3\n",
      "Number of total values: 126438\n",
      "Number of missing values \n",
      "pn_num        0\n",
      "case_num      0\n",
      "pn_history    0\n",
      "dtype: int64\n",
      "\n"
     ]
    }
   ],
   "source": [
    "dataset_information(patient_notes)"
   ]
  },
  {
   "cell_type": "code",
   "execution_count": 58,
   "id": "1accbb3d",
   "metadata": {},
   "outputs": [
    {
     "data": {
      "text/html": [
       "<div>\n",
       "<style scoped>\n",
       "    .dataframe tbody tr th:only-of-type {\n",
       "        vertical-align: middle;\n",
       "    }\n",
       "\n",
       "    .dataframe tbody tr th {\n",
       "        vertical-align: top;\n",
       "    }\n",
       "\n",
       "    .dataframe thead th {\n",
       "        text-align: right;\n",
       "    }\n",
       "</style>\n",
       "<table border=\"1\" class=\"dataframe\">\n",
       "  <thead>\n",
       "    <tr style=\"text-align: right;\">\n",
       "      <th></th>\n",
       "      <th>pn_num</th>\n",
       "      <th>case_num</th>\n",
       "      <th>pn_history</th>\n",
       "    </tr>\n",
       "  </thead>\n",
       "  <tbody>\n",
       "    <tr>\n",
       "      <th>0</th>\n",
       "      <td>0</td>\n",
       "      <td>0</td>\n",
       "      <td>17-year-old male, has come to the student heal...</td>\n",
       "    </tr>\n",
       "    <tr>\n",
       "      <th>1</th>\n",
       "      <td>1</td>\n",
       "      <td>0</td>\n",
       "      <td>17 yo male with recurrent palpitations for the...</td>\n",
       "    </tr>\n",
       "    <tr>\n",
       "      <th>2</th>\n",
       "      <td>2</td>\n",
       "      <td>0</td>\n",
       "      <td>Dillon Cleveland is a 17 y.o. male patient wit...</td>\n",
       "    </tr>\n",
       "    <tr>\n",
       "      <th>3</th>\n",
       "      <td>3</td>\n",
       "      <td>0</td>\n",
       "      <td>a 17 yo m c/o palpitation started 3 mos ago; \\...</td>\n",
       "    </tr>\n",
       "    <tr>\n",
       "      <th>4</th>\n",
       "      <td>4</td>\n",
       "      <td>0</td>\n",
       "      <td>17yo male with no pmh here for evaluation of p...</td>\n",
       "    </tr>\n",
       "  </tbody>\n",
       "</table>\n",
       "</div>"
      ],
      "text/plain": [
       "   pn_num  case_num                                         pn_history\n",
       "0       0         0  17-year-old male, has come to the student heal...\n",
       "1       1         0  17 yo male with recurrent palpitations for the...\n",
       "2       2         0  Dillon Cleveland is a 17 y.o. male patient wit...\n",
       "3       3         0  a 17 yo m c/o palpitation started 3 mos ago; \\...\n",
       "4       4         0  17yo male with no pmh here for evaluation of p..."
      ]
     },
     "execution_count": 58,
     "metadata": {},
     "output_type": "execute_result"
    }
   ],
   "source": [
    "patient_notes.head()"
   ]
  },
  {
   "cell_type": "code",
   "execution_count": 68,
   "id": "b4eecf18",
   "metadata": {},
   "outputs": [
    {
     "name": "stdout",
     "output_type": "stream",
     "text": [
      "Number of patients per case: \n",
      "50072    18\n",
      "56535    18\n",
      "56697    18\n",
      "56841    18\n",
      "57026    18\n",
      "         ..\n",
      "71449     9\n",
      "71432     9\n",
      "71344     9\n",
      "71235     9\n",
      "74087     9\n",
      "Name: pn_num, Length: 1000, dtype: int64\n"
     ]
    }
   ],
   "source": [
    "# Question 1\n",
    "# How many patients per case are unequally distributed?\n",
    "print(f'Number of patients per case: \\n{train[\"pn_num\"].value_counts()}')"
   ]
  },
  {
   "cell_type": "code",
   "execution_count": 67,
   "id": "b127fdc5",
   "metadata": {},
   "outputs": [
    {
     "name": "stdout",
     "output_type": "stream",
     "text": [
      "Number of notes per case: \n",
      "3    9753\n",
      "5    6909\n",
      "4    5405\n",
      "9    5151\n",
      "8    4196\n",
      "7    4101\n",
      "0    2268\n",
      "2    1958\n",
      "6    1597\n",
      "1     808\n",
      "Name: case_num, dtype: int64\n"
     ]
    }
   ],
   "source": [
    "# Queston 2\n",
    "# Which case has the most unequally distributed notes?\n",
    "print(f'Number of notes per case: \\n{patient_notes[\"case_num\"].value_counts()}')"
   ]
  },
  {
   "cell_type": "markdown",
   "id": "ae03df2b",
   "metadata": {
    "papermill": {
     "duration": 0.037211,
     "end_time": "2022-02-09T14:49:40.110941",
     "exception": false,
     "start_time": "2022-02-09T14:49:40.073730",
     "status": "completed"
    },
    "tags": []
   },
   "source": [
    "<b>Observations</b><br>\n",
    " \n",
    "* <i> There are total of <b>3</b> columns and <b>42146</b> rows in <b>Patient Notes</b> data.</i><br>\n",
    "* <i> Patient Notes Data contain <b>126438</b> observation with <b>0</b>  missing values.</i><br>\n",
    "* <i> Number of patients per case are unequally distributed with <b>Case 3</b> having maximum and <b>Case 1</b> having minimum.</i><br>\n",
    "</div>"
   ]
  },
  {
   "cell_type": "markdown",
   "id": "3fd6c59b",
   "metadata": {
    "papermill": {
     "duration": 0.035247,
     "end_time": "2022-02-09T14:49:40.500551",
     "exception": false,
     "start_time": "2022-02-09T14:49:40.465304",
     "status": "completed"
    },
    "tags": []
   },
   "source": [
    "### Sample Patient Note \n",
    "Let's take a sample patient note from the dataset."
   ]
  },
  {
   "cell_type": "code",
   "execution_count": 87,
   "id": "98758af9",
   "metadata": {
    "_kg_hide-input": true,
    "execution": {
     "iopub.execute_input": "2022-02-09T14:49:40.582982Z",
     "iopub.status.busy": "2022-02-09T14:49:40.577746Z",
     "iopub.status.idle": "2022-02-09T14:49:40.586173Z",
     "shell.execute_reply": "2022-02-09T14:49:40.586913Z",
     "shell.execute_reply.started": "2022-02-07T15:17:29.112434Z"
    },
    "papermill": {
     "duration": 0.049656,
     "end_time": "2022-02-09T14:49:40.587152",
     "exception": false,
     "start_time": "2022-02-09T14:49:40.537496",
     "status": "completed"
    },
    "tags": []
   },
   "outputs": [
    {
     "data": {
      "text/plain": [
       "'35 y M c/o with epigastric pain located in the middle of his abdomen. Pain scale is 5/10. It is a burning and nawing pain. Started 2 months ago. Has been progressively getting worse. There were no precipating events or previous episodes of this pain. Pt has been taking tums for the pain however it is no longer working. He has nausea but not vomiting. Pt has decrease appeittie due to bloating after eating. Pt has had darker stool recently. He is feeling lethargic for 2 wks because the pain is waking him up from his sleep. Pt eats fast food and has been excercising 3-4 a week. He has stopped due to the pain.\\r\\nRos-negative as above\\r\\nPMH- Back Pain/muscle spasms-started mid 20s, pain comes and goes, it is located all over his back\\r\\nAllergies-none, Medications- taking Moltren 2 pills a week\\r\\nFH- Uncle had bleeding ulcer\\r\\nSH- Denies illicit drug use, smokes 0.5/1 PPD since he was 15 yr, drinks a few beers\\r\\nSexual- not sexually acitive'"
      ]
     },
     "execution_count": 87,
     "metadata": {},
     "output_type": "execute_result"
    }
   ],
   "source": [
    "# Taking a random record\n",
    "random_record = random.randint(0, len(patient_notes))\n",
    "\n",
    "# Patient Note\n",
    "patient_notes.iloc[random_record]['pn_history']"
   ]
  },
  {
   "cell_type": "markdown",
   "id": "e14bef04",
   "metadata": {},
   "source": [
    "From the note above, it is clear that multiple annotations are given"
   ]
  },
  {
   "cell_type": "markdown",
   "id": "022e3e9f",
   "metadata": {},
   "source": [
    "### Sample Patient Location"
   ]
  },
  {
   "cell_type": "code",
   "execution_count": 95,
   "id": "a1d1aa49",
   "metadata": {},
   "outputs": [
    {
     "data": {
      "text/html": [
       "<div>\n",
       "<style scoped>\n",
       "    .dataframe tbody tr th:only-of-type {\n",
       "        vertical-align: middle;\n",
       "    }\n",
       "\n",
       "    .dataframe tbody tr th {\n",
       "        vertical-align: top;\n",
       "    }\n",
       "\n",
       "    .dataframe thead th {\n",
       "        text-align: right;\n",
       "    }\n",
       "</style>\n",
       "<table border=\"1\" class=\"dataframe\">\n",
       "  <thead>\n",
       "    <tr style=\"text-align: right;\">\n",
       "      <th></th>\n",
       "      <th>id</th>\n",
       "      <th>case_num</th>\n",
       "      <th>pn_num</th>\n",
       "      <th>feature_num</th>\n",
       "      <th>annotation</th>\n",
       "      <th>location</th>\n",
       "    </tr>\n",
       "  </thead>\n",
       "  <tbody>\n",
       "    <tr>\n",
       "      <th>7225</th>\n",
       "      <td>51439_501</td>\n",
       "      <td>5</td>\n",
       "      <td>51439</td>\n",
       "      <td>501</td>\n",
       "      <td>['female']</td>\n",
       "      <td>['6 12']</td>\n",
       "    </tr>\n",
       "    <tr>\n",
       "      <th>7226</th>\n",
       "      <td>51439_502</td>\n",
       "      <td>5</td>\n",
       "      <td>51439</td>\n",
       "      <td>502</td>\n",
       "      <td>[]</td>\n",
       "      <td>[]</td>\n",
       "    </tr>\n",
       "    <tr>\n",
       "      <th>7227</th>\n",
       "      <td>51439_503</td>\n",
       "      <td>5</td>\n",
       "      <td>51439</td>\n",
       "      <td>503</td>\n",
       "      <td>['episode shortness of breath']</td>\n",
       "      <td>['399 406;442 461']</td>\n",
       "    </tr>\n",
       "    <tr>\n",
       "      <th>7228</th>\n",
       "      <td>51439_504</td>\n",
       "      <td>5</td>\n",
       "      <td>51439</td>\n",
       "      <td>504</td>\n",
       "      <td>['palpitations', 'heart racing']</td>\n",
       "      <td>['36 48', '411 423']</td>\n",
       "    </tr>\n",
       "    <tr>\n",
       "      <th>7229</th>\n",
       "      <td>51439_505</td>\n",
       "      <td>5</td>\n",
       "      <td>51439</td>\n",
       "      <td>505</td>\n",
       "      <td>[]</td>\n",
       "      <td>[]</td>\n",
       "    </tr>\n",
       "  </tbody>\n",
       "</table>\n",
       "</div>"
      ],
      "text/plain": [
       "             id  case_num  pn_num  feature_num  \\\n",
       "7225  51439_501         5   51439          501   \n",
       "7226  51439_502         5   51439          502   \n",
       "7227  51439_503         5   51439          503   \n",
       "7228  51439_504         5   51439          504   \n",
       "7229  51439_505         5   51439          505   \n",
       "\n",
       "                            annotation              location  \n",
       "7225                        ['female']              ['6 12']  \n",
       "7226                                []                    []  \n",
       "7227   ['episode shortness of breath']   ['399 406;442 461']  \n",
       "7228  ['palpitations', 'heart racing']  ['36 48', '411 423']  \n",
       "7229                                []                    []  "
      ]
     },
     "execution_count": 95,
     "metadata": {},
     "output_type": "execute_result"
    }
   ],
   "source": [
    "# Checking with a random record\n",
    "randomID = random.randint(0, len(train))\n",
    "train.iloc[randomID:randomID+5]\n",
    "# train['location'].iloc[randomID:randomID+5]\n"
   ]
  },
  {
   "cell_type": "markdown",
   "id": "317e6bc4",
   "metadata": {},
   "source": [
    "In location column, we can see that there are multiple locations where the annotation is present, and each location is separated by a semicolon `;`. Another thing to notice is that empty annotations leads to empty location."
   ]
  },
  {
   "cell_type": "markdown",
   "id": "1dfbd239",
   "metadata": {
    "execution": {
     "iopub.execute_input": "2022-02-02T03:39:40.557972Z",
     "iopub.status.busy": "2022-02-02T03:39:40.55767Z",
     "iopub.status.idle": "2022-02-02T03:39:40.562211Z",
     "shell.execute_reply": "2022-02-02T03:39:40.561274Z",
     "shell.execute_reply.started": "2022-02-02T03:39:40.557943Z"
    },
    "papermill": {
     "duration": 0.051389,
     "end_time": "2022-02-09T14:49:42.780414",
     "exception": false,
     "start_time": "2022-02-09T14:49:42.729025",
     "status": "completed"
    },
    "tags": []
   },
   "source": [
    "## Features CSV Information"
   ]
  },
  {
   "cell_type": "markdown",
   "id": "8546fdc6",
   "metadata": {
    "papermill": {
     "duration": 0.051855,
     "end_time": "2022-02-09T14:49:42.884880",
     "exception": false,
     "start_time": "2022-02-09T14:49:42.833025",
     "status": "completed"
    },
    "tags": []
   },
   "source": [
    "**Column Description**\n",
    "\n",
    "| Column Name | Data Type | Description |\n",
    "|------------|-----------|-------------|\n",
    "| feature_num | int | Unique identifier for each feature. |\n",
    "| case_num | int | A unique identifier for each case. |\n",
    "| feature_text | str | A description of the feature. |"
   ]
  },
  {
   "cell_type": "markdown",
   "id": "b8cd1675",
   "metadata": {
    "papermill": {
     "duration": 0.050962,
     "end_time": "2022-02-09T14:49:42.986849",
     "exception": false,
     "start_time": "2022-02-09T14:49:42.935887",
     "status": "completed"
    },
    "tags": []
   },
   "source": [
    "### Quick view of features Data"
   ]
  },
  {
   "cell_type": "code",
   "execution_count": 106,
   "id": "0e9d5c30",
   "metadata": {
    "_kg_hide-input": true,
    "execution": {
     "iopub.execute_input": "2022-02-09T14:49:43.092909Z",
     "iopub.status.busy": "2022-02-09T14:49:43.092318Z",
     "iopub.status.idle": "2022-02-09T14:49:43.104978Z",
     "shell.execute_reply": "2022-02-09T14:49:43.104315Z",
     "shell.execute_reply.started": "2022-02-07T15:17:30.669231Z"
    },
    "papermill": {
     "duration": 0.066304,
     "end_time": "2022-02-09T14:49:43.105160",
     "exception": false,
     "start_time": "2022-02-09T14:49:43.038856",
     "status": "completed"
    },
    "tags": []
   },
   "outputs": [
    {
     "name": "stdout",
     "output_type": "stream",
     "text": [
      "Dataset Information\n",
      "-------------------\n",
      "Number of rows: 143\n",
      "Number of columns: 3\n",
      "Number of total values: 429\n",
      "Number of missing values \n",
      "feature_num     0\n",
      "case_num        0\n",
      "feature_text    0\n",
      "dtype: int64\n",
      "\n"
     ]
    }
   ],
   "source": [
    "dataset_information(features)"
   ]
  },
  {
   "cell_type": "code",
   "execution_count": 107,
   "id": "e0d3b403",
   "metadata": {},
   "outputs": [
    {
     "data": {
      "text/html": [
       "<div>\n",
       "<style scoped>\n",
       "    .dataframe tbody tr th:only-of-type {\n",
       "        vertical-align: middle;\n",
       "    }\n",
       "\n",
       "    .dataframe tbody tr th {\n",
       "        vertical-align: top;\n",
       "    }\n",
       "\n",
       "    .dataframe thead th {\n",
       "        text-align: right;\n",
       "    }\n",
       "</style>\n",
       "<table border=\"1\" class=\"dataframe\">\n",
       "  <thead>\n",
       "    <tr style=\"text-align: right;\">\n",
       "      <th></th>\n",
       "      <th>feature_num</th>\n",
       "      <th>case_num</th>\n",
       "      <th>feature_text</th>\n",
       "    </tr>\n",
       "  </thead>\n",
       "  <tbody>\n",
       "    <tr>\n",
       "      <th>0</th>\n",
       "      <td>0</td>\n",
       "      <td>0</td>\n",
       "      <td>Family-history-of-MI-OR-Family-history-of-myoc...</td>\n",
       "    </tr>\n",
       "    <tr>\n",
       "      <th>1</th>\n",
       "      <td>1</td>\n",
       "      <td>0</td>\n",
       "      <td>Family-history-of-thyroid-disorder</td>\n",
       "    </tr>\n",
       "    <tr>\n",
       "      <th>2</th>\n",
       "      <td>2</td>\n",
       "      <td>0</td>\n",
       "      <td>Chest-pressure</td>\n",
       "    </tr>\n",
       "    <tr>\n",
       "      <th>3</th>\n",
       "      <td>3</td>\n",
       "      <td>0</td>\n",
       "      <td>Intermittent-symptoms</td>\n",
       "    </tr>\n",
       "    <tr>\n",
       "      <th>4</th>\n",
       "      <td>4</td>\n",
       "      <td>0</td>\n",
       "      <td>Lightheaded</td>\n",
       "    </tr>\n",
       "  </tbody>\n",
       "</table>\n",
       "</div>"
      ],
      "text/plain": [
       "   feature_num  case_num                                       feature_text\n",
       "0            0         0  Family-history-of-MI-OR-Family-history-of-myoc...\n",
       "1            1         0                 Family-history-of-thyroid-disorder\n",
       "2            2         0                                     Chest-pressure\n",
       "3            3         0                              Intermittent-symptoms\n",
       "4            4         0                                        Lightheaded"
      ]
     },
     "execution_count": 107,
     "metadata": {},
     "output_type": "execute_result"
    }
   ],
   "source": [
    "features.head()"
   ]
  },
  {
   "cell_type": "code",
   "execution_count": 114,
   "id": "b7692f2d",
   "metadata": {},
   "outputs": [
    {
     "name": "stdout",
     "output_type": "stream",
     "text": [
      "Number of cases per patient: \n",
      "5    18\n",
      "8    18\n",
      "2    17\n",
      "9    17\n",
      "3    16\n",
      "0    13\n",
      "1    13\n",
      "6    12\n",
      "4    10\n",
      "7     9\n",
      "Name: case_num, dtype: int64\n"
     ]
    }
   ],
   "source": [
    "# Question 1\n",
    "# How many cases are unequally distributed per patient?\n",
    "print(f'Number of cases per patient: \\n{features[\"case_num\"].value_counts()}')"
   ]
  },
  {
   "cell_type": "code",
   "execution_count": 117,
   "id": "effb35c6",
   "metadata": {},
   "outputs": [
    {
     "name": "stdout",
     "output_type": "stream",
     "text": [
      "Average length of notes per patient: \n",
      "23.20979020979021\n"
     ]
    }
   ],
   "source": [
    "# Question 2\n",
    "# What is the average length of the notes per patient?\n",
    "print(f'Average length of notes per patient: \\n{features[\"feature_text\"].str.len().mean()}')"
   ]
  },
  {
   "cell_type": "markdown",
   "id": "104184c8",
   "metadata": {
    "papermill": {
     "duration": 0.049793,
     "end_time": "2022-02-09T14:49:42.679079",
     "exception": false,
     "start_time": "2022-02-09T14:49:42.629286",
     "status": "completed"
    },
    "tags": []
   },
   "source": [
    "<b>Observations in Features Data:</b><br>\n",
    " \n",
    "* <i> There are total of <b>3</b> columns and <b>143</b> rows in <b>Features</b> data.</i><br>\n",
    "* <i> Patient Notes Data contain <b>429</b> observation with <b>0</b>  missing values.</i><br>\n",
    "* <i> Number of patients per case are unequally distributed with <b>Case 5</b> and <b>Case 8</b> having maximum and <b>Case 7</b> having minimum.</i><br>\n",
    "* <i> Average length of <b>feature_text</b> column is <b>23.20</b>. </i><br>\n",
    "</div>"
   ]
  },
  {
   "cell_type": "markdown",
   "id": "46bb55f7",
   "metadata": {
    "papermill": {
     "duration": 0.047681,
     "end_time": "2022-02-09T14:49:43.200983",
     "exception": false,
     "start_time": "2022-02-09T14:49:43.153302",
     "status": "completed"
    },
    "tags": []
   },
   "source": [
    "### Sample Feature text"
   ]
  },
  {
   "cell_type": "code",
   "execution_count": 111,
   "id": "01a1f6b5",
   "metadata": {
    "_kg_hide-input": true,
    "execution": {
     "iopub.execute_input": "2022-02-09T14:49:43.302163Z",
     "iopub.status.busy": "2022-02-09T14:49:43.301440Z",
     "iopub.status.idle": "2022-02-09T14:49:43.304363Z",
     "shell.execute_reply": "2022-02-09T14:49:43.304813Z",
     "shell.execute_reply.started": "2022-02-07T15:17:30.687143Z"
    },
    "papermill": {
     "duration": 0.056393,
     "end_time": "2022-02-09T14:49:43.304976",
     "exception": false,
     "start_time": "2022-02-09T14:49:43.248583",
     "status": "completed"
    },
    "tags": []
   },
   "outputs": [
    {
     "data": {
      "text/plain": [
       "'Increased-frequency-recently'"
      ]
     },
     "execution_count": 111,
     "metadata": {},
     "output_type": "execute_result"
    }
   ],
   "source": [
    "# find random sample feature text\n",
    "random_feature = random.randint(0, len(features)) \n",
    "features.iloc[random_feature]['feature_text']"
   ]
  },
  {
   "cell_type": "markdown",
   "id": "0c5bb29b",
   "metadata": {},
   "source": [
    "## Visulization\n",
    "Since we are done with analysing our data, we will now visualize to give more meaning to our data."
   ]
  },
  {
   "cell_type": "markdown",
   "id": "fb893e92",
   "metadata": {
    "papermill": {
     "duration": 0.039316,
     "end_time": "2022-02-09T14:49:40.667193",
     "exception": false,
     "start_time": "2022-02-09T14:49:40.627877",
     "status": "completed"
    },
    "tags": []
   },
   "source": [
    "### Patient Notes Distribution (Per case) "
   ]
  },
  {
   "cell_type": "code",
   "execution_count": 10,
   "id": "ca69c7a1",
   "metadata": {
    "_kg_hide-input": true,
    "execution": {
     "iopub.execute_input": "2022-02-09T14:49:40.747089Z",
     "iopub.status.busy": "2022-02-09T14:49:40.746345Z",
     "iopub.status.idle": "2022-02-09T14:49:41.783470Z",
     "shell.execute_reply": "2022-02-09T14:49:41.782936Z",
     "shell.execute_reply.started": "2022-02-07T15:17:29.121086Z"
    },
    "papermill": {
     "duration": 1.077922,
     "end_time": "2022-02-09T14:49:41.783629",
     "exception": false,
     "start_time": "2022-02-09T14:49:40.705707",
     "status": "completed"
    },
    "tags": []
   },
   "outputs": [
    {
     "data": {
      "image/png": "[encoded data removed]",
      "text/plain": [
       "<Figure size 720x360 with 1 Axes>"
      ]
     },
     "metadata": {
      "needs_background": "light"
     },
     "output_type": "display_data"
    }
   ],
   "source": [
    "notes_counts = patient_notes.groupby(\"case_num\").count()\n",
    "\n",
    "fig, ax = plt.subplots(figsize=(10,5))\n",
    "sns.barplot(x=notes_counts.index, y=notes_counts.pn_history)\n",
    "plt.title(\"Number of notes per patient\")\n",
    "plt.xlabel(\"Patient ID\")\n",
    "plt.ylabel(\"Number of notes\")\n",
    "plt.show()\n"
   ]
  },
  {
   "cell_type": "markdown",
   "id": "50e5893c",
   "metadata": {
    "papermill": {
     "duration": 0.039938,
     "end_time": "2022-02-09T14:49:41.863586",
     "exception": false,
     "start_time": "2022-02-09T14:49:41.823648",
     "status": "completed"
    },
    "tags": []
   },
   "source": [
    "### Patient Notes Length Distribution "
   ]
  },
  {
   "cell_type": "code",
   "execution_count": 104,
   "id": "e0242b81",
   "metadata": {
    "_kg_hide-input": true,
    "execution": {
     "iopub.execute_input": "2022-02-09T14:49:41.942963Z",
     "iopub.status.busy": "2022-02-09T14:49:41.942271Z",
     "iopub.status.idle": "2022-02-09T14:49:42.477635Z",
     "shell.execute_reply": "2022-02-09T14:49:42.478139Z",
     "shell.execute_reply.started": "2022-02-07T15:17:30.15737Z"
    },
    "papermill": {
     "duration": 0.576555,
     "end_time": "2022-02-09T14:49:42.478310",
     "exception": false,
     "start_time": "2022-02-09T14:49:41.901755",
     "status": "completed"
    },
    "tags": []
   },
   "outputs": [
    {
     "name": "stdout",
     "output_type": "stream",
     "text": [
      "Average length of Patient History -  818.1768139325203\n",
      "Median length of Patient History -  859.0\n",
      "Maximum length of Patient History -  950\n",
      "Minimum length of Patient History -  30\n"
     ]
    },
    {
     "data": {
      "image/png": "[encoded data removed]",
      "text/plain": [
       "<Figure size 720x360 with 1 Axes>"
      ]
     },
     "metadata": {
      "needs_background": "light"
     },
     "output_type": "display_data"
    }
   ],
   "source": [
    "all_notes = []\n",
    "all_notes_len = []\n",
    "\n",
    "# Finding Patients Distributed \n",
    "for notes in patient_notes['pn_history']:\n",
    "    all_notes.append(notes)\n",
    "    all_notes_len.append(len(notes))\n",
    "print(\"Average length of Patient History - \",np.mean(all_notes_len))\n",
    "print(\"Median length of Patient History - \",np.median(all_notes_len))\n",
    "print(\"Maximum length of Patient History - \",np.max(all_notes_len))\n",
    "print(\"Minimum length of Patient History - \",np.min(all_notes_len))\n",
    "\n",
    "# Creating plot of patient history\n",
    "fig, ax = plt.subplots(figsize=(10,5))\n",
    "sns.distplot(all_notes_len) \n",
    "plt.title(\"Distribution of Patient History Length\")\n",
    "plt.xlabel(\"Length of Patient History\")\n",
    "plt.ylabel(\"Frequency\")\n",
    "plt.show()"
   ]
  },
  {
   "cell_type": "markdown",
   "id": "3f496ac0",
   "metadata": {
    "papermill": {
     "duration": 0.048126,
     "end_time": "2022-02-09T14:49:43.400823",
     "exception": false,
     "start_time": "2022-02-09T14:49:43.352697",
     "status": "completed"
    },
    "tags": []
   },
   "source": [
    "### Feature Distribution (per Case) "
   ]
  },
  {
   "cell_type": "code",
   "execution_count": 14,
   "id": "57b2b3d8",
   "metadata": {
    "_kg_hide-input": true,
    "execution": {
     "iopub.execute_input": "2022-02-09T14:49:43.499999Z",
     "iopub.status.busy": "2022-02-09T14:49:43.499021Z",
     "iopub.status.idle": "2022-02-09T14:49:43.575037Z",
     "shell.execute_reply": "2022-02-09T14:49:43.575464Z",
     "shell.execute_reply.started": "2022-02-07T15:17:30.698861Z"
    },
    "papermill": {
     "duration": 0.127165,
     "end_time": "2022-02-09T14:49:43.575629",
     "exception": false,
     "start_time": "2022-02-09T14:49:43.448464",
     "status": "completed"
    },
    "tags": []
   },
   "outputs": [
    {
     "data": {
      "image/png": "[encoded data removed]",
      "text/plain": [
       "<Figure size 720x360 with 1 Axes>"
      ]
     },
     "metadata": {
      "needs_background": "light"
     },
     "output_type": "display_data"
    }
   ],
   "source": [
    "feature_counts = features.groupby(\"case_num\").count()\n",
    "fig, ax = plt.subplots(figsize=(10,5))\n",
    "sns.barplot(x=feature_counts.index, y=feature_counts.feature_text)\n",
    "plt.title(\"Number of features per patient\")\n",
    "plt.xlabel(\"Patient ID\")\n",
    "plt.ylabel(\"Number of features\")\n",
    "plt.show()\n"
   ]
  },
  {
   "cell_type": "markdown",
   "id": "ed493571",
   "metadata": {
    "papermill": {
     "duration": 0.047798,
     "end_time": "2022-02-09T14:49:43.672039",
     "exception": false,
     "start_time": "2022-02-09T14:49:43.624241",
     "status": "completed"
    },
    "tags": []
   },
   "source": [
    "### Feature Length Distribution "
   ]
  },
  {
   "cell_type": "code",
   "execution_count": 118,
   "id": "97c1702e",
   "metadata": {
    "_kg_hide-input": true,
    "execution": {
     "iopub.execute_input": "2022-02-09T14:49:43.805881Z",
     "iopub.status.busy": "2022-02-09T14:49:43.800799Z",
     "iopub.status.idle": "2022-02-09T14:49:43.863076Z",
     "shell.execute_reply": "2022-02-09T14:49:43.862495Z",
     "shell.execute_reply.started": "2022-02-07T15:17:30.781362Z"
    },
    "papermill": {
     "duration": 0.142735,
     "end_time": "2022-02-09T14:49:43.863229",
     "exception": false,
     "start_time": "2022-02-09T14:49:43.720494",
     "status": "completed"
    },
    "tags": []
   },
   "outputs": [
    {
     "name": "stdout",
     "output_type": "stream",
     "text": [
      "Average length of Patient History -  23.20979020979021\n",
      "Median length of Patient History -  19.0\n",
      "Maximum length of Patient History -  68\n",
      "Minimum length of Patient History -  3\n"
     ]
    },
    {
     "data": {
      "image/png": "[encoded data removed]",
      "text/plain": [
       "<Figure size 720x360 with 1 Axes>"
      ]
     },
     "metadata": {
      "needs_background": "light"
     },
     "output_type": "display_data"
    }
   ],
   "source": [
    "all_feat = []\n",
    "all_feat_len = []\n",
    "for notes in features['feature_text']:\n",
    "    all_feat.append(notes)\n",
    "    all_feat_len.append(len(notes))\n",
    "print(\"Average length of Patient History - \",np.mean(all_feat_len))\n",
    "print(\"Median length of Patient History - \",np.median(all_feat_len))\n",
    "print(\"Maximum length of Patient History - \",np.max(all_feat_len))\n",
    "print(\"Minimum length of Patient History - \",np.min(all_feat_len))\n",
    "\n",
    "fig, ax = plt.subplots(figsize=(10,5))\n",
    "sns.distplot(all_feat_len) \n",
    "plt.title(\"Distribution of Patient History Length\") \n",
    "plt.xlabel(\"Length of Patient History\")\n",
    "plt.ylabel(\"Frequency\")\n",
    "plt.show()\n",
    "  "
   ]
  },
  {
   "cell_type": "markdown",
   "id": "94fd3c4c",
   "metadata": {
    "papermill": {
     "duration": 0.051111,
     "end_time": "2022-02-09T14:49:44.065055",
     "exception": false,
     "start_time": "2022-02-09T14:49:44.013944",
     "status": "completed"
    },
    "tags": []
   },
   "source": [
    "<b>Observations in Patient analysis:</b><br>\n",
    " \n",
    "* <i> There are total of <b>1000</b> unique patients</i><br>\n",
    "* <i> For every unqiue <b>pn_num</b> there are several rows depecting several anotations in patient notes.</i><br>\n",
    "</div>"
   ]
  },
  {
   "cell_type": "markdown",
   "id": "def2c7d0",
   "metadata": {
    "papermill": {
     "duration": 0.051464,
     "end_time": "2022-02-09T14:49:44.167120",
     "exception": false,
     "start_time": "2022-02-09T14:49:44.115656",
     "status": "completed"
    },
    "tags": []
   },
   "source": [
    "## Patient analysis "
   ]
  },
  {
   "cell_type": "markdown",
   "id": "1cad533e",
   "metadata": {},
   "source": [
    "### Total Annotations Analysis"
   ]
  },
  {
   "cell_type": "code",
   "execution_count": 164,
   "id": "9fb5fe88",
   "metadata": {},
   "outputs": [
    {
     "name": "stdout",
     "output_type": "stream",
     "text": [
      "Number of annotations:  14300\n",
      "Number of empty square bracket annotations:  4399\n",
      "Average length of annotations:  18.1779020979021\n"
     ]
    }
   ],
   "source": [
    "# All Annotations\n",
    "print('Number of annotations: ', train['annotation'].count())\n",
    "\n",
    "# Empty square Bracket Annotations \n",
    "print('Number of empty square bracket annotations: ', train['annotation'].str.count('\\[\\]').sum())\n",
    "\n",
    "# Average length of annotations\n",
    "print('Average length of annotations: ', train['annotation'].str.len().mean())"
   ]
  },
  {
   "cell_type": "markdown",
   "id": "afae6599",
   "metadata": {
    "papermill": {
     "duration": 0.050943,
     "end_time": "2022-02-09T14:49:45.426924",
     "exception": false,
     "start_time": "2022-02-09T14:49:45.375981",
     "status": "completed"
    },
    "tags": []
   },
   "source": [
    "#### Annotation Count Distribution"
   ]
  },
  {
   "cell_type": "code",
   "execution_count": 173,
   "id": "81c4e689",
   "metadata": {
    "_kg_hide-input": true,
    "execution": {
     "iopub.execute_input": "2022-02-09T14:49:45.578715Z",
     "iopub.status.busy": "2022-02-09T14:49:45.542243Z",
     "iopub.status.idle": "2022-02-09T14:49:49.222965Z",
     "shell.execute_reply": "2022-02-09T14:49:49.223648Z",
     "shell.execute_reply.started": "2022-02-07T15:17:31.989463Z"
    },
    "papermill": {
     "duration": 3.744319,
     "end_time": "2022-02-09T14:49:49.223925",
     "exception": false,
     "start_time": "2022-02-09T14:49:45.479606",
     "status": "completed"
    },
    "tags": []
   },
   "outputs": [
    {
     "name": "stdout",
     "output_type": "stream",
     "text": [
      "List of annotations that are repeated: \n",
      " []                         4399\n",
      "['F']                       304\n",
      "['female']                  217\n",
      "['M']                       127\n",
      "['nausea']                  105\n",
      "                           ... \n",
      "['1-2 beers a week']          2\n",
      "['headache diffuse']          2\n",
      "['lightheadness']             2\n",
      "['associated dyspnea']        2\n",
      "['has had for 5 years']       2\n",
      "Name: annotation, Length: 775, dtype: int64\n"
     ]
    }
   ],
   "source": [
    "print('List of annotations that are repeated: \\n', train['annotation'].value_counts()[train['annotation'].value_counts() > 1])\n"
   ]
  },
  {
   "cell_type": "markdown",
   "id": "c907c5d2",
   "metadata": {},
   "source": [
    "**Quick Summary**\n",
    "* <i> There are total of <b>14300</b> annotations present in train data</i><br>\n",
    "* <i> A total of <b>4399</b> annotations are empty and their corresponding location is an <b>empty list</b></i><br>\n",
    "* <i> Average length of annotations is <b>18.17</b>. </i>"
   ]
  },
  {
   "cell_type": "markdown",
   "id": "ede9cb20",
   "metadata": {
    "papermill": {
     "duration": 0.049424,
     "end_time": "2022-02-09T14:49:44.478046",
     "exception": false,
     "start_time": "2022-02-09T14:49:44.428622",
     "status": "completed"
    },
    "tags": []
   },
   "source": [
    "### Selecting a Patient"
   ]
  },
  {
   "cell_type": "code",
   "execution_count": 139,
   "id": "b29ea1d5",
   "metadata": {
    "_kg_hide-input": true,
    "execution": {
     "iopub.execute_input": "2022-02-09T14:49:44.590276Z",
     "iopub.status.busy": "2022-02-09T14:49:44.589590Z",
     "iopub.status.idle": "2022-02-09T14:49:44.593335Z",
     "shell.execute_reply": "2022-02-09T14:49:44.593757Z",
     "shell.execute_reply.started": "2022-02-07T15:17:30.886032Z"
    },
    "papermill": {
     "duration": 0.066011,
     "end_time": "2022-02-09T14:49:44.593925",
     "exception": false,
     "start_time": "2022-02-09T14:49:44.527914",
     "status": "completed"
    },
    "tags": []
   },
   "outputs": [
    {
     "data": {
      "text/html": [
       "<div>\n",
       "<style scoped>\n",
       "    .dataframe tbody tr th:only-of-type {\n",
       "        vertical-align: middle;\n",
       "    }\n",
       "\n",
       "    .dataframe tbody tr th {\n",
       "        vertical-align: top;\n",
       "    }\n",
       "\n",
       "    .dataframe thead th {\n",
       "        text-align: right;\n",
       "    }\n",
       "</style>\n",
       "<table border=\"1\" class=\"dataframe\">\n",
       "  <thead>\n",
       "    <tr style=\"text-align: right;\">\n",
       "      <th></th>\n",
       "      <th>id</th>\n",
       "      <th>case_num</th>\n",
       "      <th>pn_num</th>\n",
       "      <th>feature_num</th>\n",
       "      <th>annotation</th>\n",
       "      <th>location</th>\n",
       "    </tr>\n",
       "  </thead>\n",
       "  <tbody>\n",
       "    <tr>\n",
       "      <th>13756</th>\n",
       "      <td>93712_900</td>\n",
       "      <td>9</td>\n",
       "      <td>93712</td>\n",
       "      <td>900</td>\n",
       "      <td>[]</td>\n",
       "      <td>[]</td>\n",
       "    </tr>\n",
       "    <tr>\n",
       "      <th>13757</th>\n",
       "      <td>93712_901</td>\n",
       "      <td>9</td>\n",
       "      <td>93712</td>\n",
       "      <td>901</td>\n",
       "      <td>['20 year old']</td>\n",
       "      <td>['16 27']</td>\n",
       "    </tr>\n",
       "    <tr>\n",
       "      <th>13758</th>\n",
       "      <td>93712_902</td>\n",
       "      <td>9</td>\n",
       "      <td>93712</td>\n",
       "      <td>902</td>\n",
       "      <td>['yesterday']</td>\n",
       "      <td>['106 115']</td>\n",
       "    </tr>\n",
       "    <tr>\n",
       "      <th>13759</th>\n",
       "      <td>93712_903</td>\n",
       "      <td>9</td>\n",
       "      <td>93712</td>\n",
       "      <td>903</td>\n",
       "      <td>['body aches']</td>\n",
       "      <td>['477 487']</td>\n",
       "    </tr>\n",
       "    <tr>\n",
       "      <th>13760</th>\n",
       "      <td>93712_904</td>\n",
       "      <td>9</td>\n",
       "      <td>93712</td>\n",
       "      <td>904</td>\n",
       "      <td>['holocranial headache']</td>\n",
       "      <td>['72 92']</td>\n",
       "    </tr>\n",
       "    <tr>\n",
       "      <th>13761</th>\n",
       "      <td>93712_905</td>\n",
       "      <td>9</td>\n",
       "      <td>93712</td>\n",
       "      <td>905</td>\n",
       "      <td>['neck stiffness', 'neck pain']</td>\n",
       "      <td>['312 326', '312 316;331 335']</td>\n",
       "    </tr>\n",
       "    <tr>\n",
       "      <th>13762</th>\n",
       "      <td>93712_906</td>\n",
       "      <td>9</td>\n",
       "      <td>93712</td>\n",
       "      <td>906</td>\n",
       "      <td>['vomiting']</td>\n",
       "      <td>['399 407']</td>\n",
       "    </tr>\n",
       "    <tr>\n",
       "      <th>13763</th>\n",
       "      <td>93712_907</td>\n",
       "      <td>9</td>\n",
       "      <td>93712</td>\n",
       "      <td>907</td>\n",
       "      <td>[]</td>\n",
       "      <td>[]</td>\n",
       "    </tr>\n",
       "    <tr>\n",
       "      <th>13764</th>\n",
       "      <td>93712_908</td>\n",
       "      <td>9</td>\n",
       "      <td>93712</td>\n",
       "      <td>908</td>\n",
       "      <td>['nausea']</td>\n",
       "      <td>['358 364']</td>\n",
       "    </tr>\n",
       "    <tr>\n",
       "      <th>13765</th>\n",
       "      <td>93712_909</td>\n",
       "      <td>9</td>\n",
       "      <td>93712</td>\n",
       "      <td>909</td>\n",
       "      <td>[]</td>\n",
       "      <td>[]</td>\n",
       "    </tr>\n",
       "    <tr>\n",
       "      <th>13766</th>\n",
       "      <td>93712_910</td>\n",
       "      <td>9</td>\n",
       "      <td>93712</td>\n",
       "      <td>910</td>\n",
       "      <td>[]</td>\n",
       "      <td>[]</td>\n",
       "    </tr>\n",
       "    <tr>\n",
       "      <th>13767</th>\n",
       "      <td>93712_911</td>\n",
       "      <td>9</td>\n",
       "      <td>93712</td>\n",
       "      <td>911</td>\n",
       "      <td>[]</td>\n",
       "      <td>[]</td>\n",
       "    </tr>\n",
       "    <tr>\n",
       "      <th>13768</th>\n",
       "      <td>93712_912</td>\n",
       "      <td>9</td>\n",
       "      <td>93712</td>\n",
       "      <td>912</td>\n",
       "      <td>['Mom migraine']</td>\n",
       "      <td>['789 792;810 818']</td>\n",
       "    </tr>\n",
       "    <tr>\n",
       "      <th>13769</th>\n",
       "      <td>93712_913</td>\n",
       "      <td>9</td>\n",
       "      <td>93712</td>\n",
       "      <td>913</td>\n",
       "      <td>['female']</td>\n",
       "      <td>['28 34']</td>\n",
       "    </tr>\n",
       "    <tr>\n",
       "      <th>13770</th>\n",
       "      <td>93712_914</td>\n",
       "      <td>9</td>\n",
       "      <td>93712</td>\n",
       "      <td>914</td>\n",
       "      <td>['photophonia']</td>\n",
       "      <td>['345 356']</td>\n",
       "    </tr>\n",
       "    <tr>\n",
       "      <th>13771</th>\n",
       "      <td>93712_915</td>\n",
       "      <td>9</td>\n",
       "      <td>93712</td>\n",
       "      <td>915</td>\n",
       "      <td>['does not recall any sick contacts']</td>\n",
       "      <td>['663 696']</td>\n",
       "    </tr>\n",
       "    <tr>\n",
       "      <th>13772</th>\n",
       "      <td>93712_916</td>\n",
       "      <td>9</td>\n",
       "      <td>93712</td>\n",
       "      <td>916</td>\n",
       "      <td>[]</td>\n",
       "      <td>[]</td>\n",
       "    </tr>\n",
       "  </tbody>\n",
       "</table>\n",
       "</div>"
      ],
      "text/plain": [
       "              id  case_num  pn_num  feature_num  \\\n",
       "13756  93712_900         9   93712          900   \n",
       "13757  93712_901         9   93712          901   \n",
       "13758  93712_902         9   93712          902   \n",
       "13759  93712_903         9   93712          903   \n",
       "13760  93712_904         9   93712          904   \n",
       "13761  93712_905         9   93712          905   \n",
       "13762  93712_906         9   93712          906   \n",
       "13763  93712_907         9   93712          907   \n",
       "13764  93712_908         9   93712          908   \n",
       "13765  93712_909         9   93712          909   \n",
       "13766  93712_910         9   93712          910   \n",
       "13767  93712_911         9   93712          911   \n",
       "13768  93712_912         9   93712          912   \n",
       "13769  93712_913         9   93712          913   \n",
       "13770  93712_914         9   93712          914   \n",
       "13771  93712_915         9   93712          915   \n",
       "13772  93712_916         9   93712          916   \n",
       "\n",
       "                                  annotation                        location  \n",
       "13756                                     []                              []  \n",
       "13757                        ['20 year old']                       ['16 27']  \n",
       "13758                          ['yesterday']                     ['106 115']  \n",
       "13759                         ['body aches']                     ['477 487']  \n",
       "13760               ['holocranial headache']                       ['72 92']  \n",
       "13761        ['neck stiffness', 'neck pain']  ['312 326', '312 316;331 335']  \n",
       "13762                           ['vomiting']                     ['399 407']  \n",
       "13763                                     []                              []  \n",
       "13764                             ['nausea']                     ['358 364']  \n",
       "13765                                     []                              []  \n",
       "13766                                     []                              []  \n",
       "13767                                     []                              []  \n",
       "13768                       ['Mom migraine']             ['789 792;810 818']  \n",
       "13769                             ['female']                       ['28 34']  \n",
       "13770                        ['photophonia']                     ['345 356']  \n",
       "13771  ['does not recall any sick contacts']                     ['663 696']  \n",
       "13772                                     []                              []  "
      ]
     },
     "execution_count": 139,
     "metadata": {},
     "output_type": "execute_result"
    }
   ],
   "source": [
    "# Selecting a random record from the Train\n",
    "patient_id = train.iloc[random.randint(0, len(train))]['pn_num']\n",
    "\n",
    "# Showing the records of the patient\n",
    "patient_df = train[train['pn_num'] == patient_id]\n",
    "patient_df"
   ]
  },
  {
   "cell_type": "markdown",
   "id": "2106ee57",
   "metadata": {
    "papermill": {
     "duration": 0.050852,
     "end_time": "2022-02-09T14:49:44.696419",
     "exception": false,
     "start_time": "2022-02-09T14:49:44.645567",
     "status": "completed"
    },
    "tags": []
   },
   "source": [
    "### Patient Notes and Annotations \n",
    "This will help in finding how does the patient notes look like and how many annotations are present."
   ]
  },
  {
   "cell_type": "code",
   "execution_count": 141,
   "id": "1f8e045b",
   "metadata": {
    "_kg_hide-input": true,
    "execution": {
     "iopub.execute_input": "2022-02-09T14:49:44.803877Z",
     "iopub.status.busy": "2022-02-09T14:49:44.803259Z",
     "iopub.status.idle": "2022-02-09T14:49:44.807761Z",
     "shell.execute_reply": "2022-02-09T14:49:44.807150Z",
     "shell.execute_reply.started": "2022-02-07T15:17:30.904105Z"
    },
    "papermill": {
     "duration": 0.06144,
     "end_time": "2022-02-09T14:49:44.807897",
     "exception": false,
     "start_time": "2022-02-09T14:49:44.746457",
     "status": "completed"
    },
    "tags": []
   },
   "outputs": [
    {
     "name": "stdout",
     "output_type": "stream",
     "text": [
      "Patient Notes\n",
      "Ms. Madden is a 20 year old female who presents today with sudden onset holocranial headache that started yesterday morning. She states that she was awoken with intense pain. She states that the pain is dull and constant. There is not a specific area of the head that hurts the most. She does state she has some neck stiffness and pain. She has photophonia, nausea, decreased appetite, 3 episoes of vomiting. Denies phonophobia, diarrhea, constipation. States that she has had body aches since yesterday as well. She has not experienced anything like this before. She does get about 2 headaches a year, but are different than the one she is experiencing now. She does not recall any sick contacts. She has been taking birth control pills for 2 years. NKDA. No significant medical history. Mom has a history of migraine headaches that are well controlled with medications. Does use marijuana occasionally, but denis injection drug use.\n"
     ]
    }
   ],
   "source": [
    "# Finding Patient Notes\n",
    "print(\"Patient Notes\")\n",
    "print(patient_notes[patient_notes[\"pn_num\"] == patient_id][\"pn_history\"].iloc[0])"
   ]
  },
  {
   "cell_type": "code",
   "execution_count": 142,
   "id": "68f5d3fe",
   "metadata": {},
   "outputs": [
    {
     "name": "stdout",
     "output_type": "stream",
     "text": [
      "Annotaions:\n",
      "[]\n",
      "['20 year old']\n",
      "['yesterday']\n",
      "['body aches']\n",
      "['holocranial headache']\n",
      "['neck stiffness', 'neck pain']\n",
      "['vomiting']\n",
      "[]\n",
      "['nausea']\n",
      "[]\n",
      "[]\n",
      "[]\n",
      "['Mom migraine']\n",
      "['female']\n",
      "['photophonia']\n",
      "['does not recall any sick contacts']\n",
      "[]\n"
     ]
    }
   ],
   "source": [
    "# Annotations\n",
    "print('Annotaions:')\n",
    "for i in range(len(patient_df)):\n",
    "    print(patient_df[\"annotation\"].iloc[i])"
   ]
  },
  {
   "cell_type": "markdown",
   "id": "37ad597e",
   "metadata": {},
   "source": [
    "### Graphing Annotations Distribution"
   ]
  },
  {
   "cell_type": "code",
   "execution_count": 21,
   "id": "21c62ccc",
   "metadata": {
    "_kg_hide-input": true,
    "execution": {
     "iopub.execute_input": "2022-02-09T14:49:49.333220Z",
     "iopub.status.busy": "2022-02-09T14:49:49.332482Z",
     "iopub.status.idle": "2022-02-09T14:49:49.407471Z",
     "shell.execute_reply": "2022-02-09T14:49:49.407916Z",
     "shell.execute_reply.started": "2022-02-07T15:17:35.732442Z"
    },
    "papermill": {
     "duration": 0.131061,
     "end_time": "2022-02-09T14:49:49.408076",
     "exception": false,
     "start_time": "2022-02-09T14:49:49.277015",
     "status": "completed"
    },
    "tags": []
   },
   "outputs": [
    {
     "data": {
      "image/png": "[encoded data removed]",
      "text/plain": [
       "<Figure size 720x360 with 1 Axes>"
      ]
     },
     "metadata": {
      "needs_background": "light"
     },
     "output_type": "display_data"
    }
   ],
   "source": [
    "fig, ax = plt.subplots(figsize=(10,5))\n",
    "sns.barplot(x=train[\"annot_count\"].value_counts().sort_index().index, y=train[\"annot_count\"].value_counts().sort_index())\n",
    "plt.title(\"Number of annotations per patient\") \n",
    "plt.xlabel(\"Number of annotations\")\n",
    "plt.ylabel(\"Patient ID\")\n",
    "plt.show()"
   ]
  },
  {
   "cell_type": "markdown",
   "id": "49cb999f",
   "metadata": {
    "papermill": {
     "duration": 0.051508,
     "end_time": "2022-02-09T14:49:49.511775",
     "exception": false,
     "start_time": "2022-02-09T14:49:49.460267",
     "status": "completed"
    },
    "tags": []
   },
   "source": [
    "### Annotation Length Distribution"
   ]
  },
  {
   "cell_type": "code",
   "execution_count": 22,
   "id": "ee1441e2",
   "metadata": {
    "_kg_hide-input": true,
    "execution": {
     "iopub.execute_input": "2022-02-09T14:49:49.618488Z",
     "iopub.status.busy": "2022-02-09T14:49:49.617883Z",
     "iopub.status.idle": "2022-02-09T14:49:49.754538Z",
     "shell.execute_reply": "2022-02-09T14:49:49.755350Z",
     "shell.execute_reply.started": "2022-02-07T15:22:31.493929Z"
    },
    "papermill": {
     "duration": 0.191894,
     "end_time": "2022-02-09T14:49:49.755599",
     "exception": false,
     "start_time": "2022-02-09T14:49:49.563705",
     "status": "completed"
    },
    "tags": []
   },
   "outputs": [
    {
     "name": "stdout",
     "output_type": "stream",
     "text": [
      "Average length of Annotations -  16.528445316331535\n"
     ]
    },
    {
     "data": {
      "image/png": "[encoded data removed]",
      "text/plain": [
       "<Figure size 720x360 with 1 Axes>"
      ]
     },
     "metadata": {
      "needs_background": "light"
     },
     "output_type": "display_data"
    }
   ],
   "source": [
    "annot_lengths = []\n",
    "all_annot_words = []\n",
    "for annot in train[\"annotation\"]:\n",
    "    for words in annot:\n",
    "        annot_lengths.append(len(words))\n",
    "        all_annot_words.append(words)\n",
    "print(\"Average length of Annotations - \",np.mean(annot_lengths))\n",
    "fig, ax = plt.subplots(figsize=(10,5))\n",
    "sns.distplot(annot_lengths)\n",
    "plt.title(\"Distribution of Annotations Length\")\n",
    "plt.xlabel(\"Length of Annotations\")\n",
    "plt.ylabel(\"Frequency\")\n",
    "plt.show()"
   ]
  }
 ],
 "metadata": {
  "interpreter": {
   "hash": "e9fdc8b38eeb13e23080d8401b889c3fdc15778a64593e63aa6185e4d38c6371"
  },
  "kernelspec": {
   "display_name": "Python 3.10.0 64-bit",
   "language": "python",
   "name": "python3"
  },
  "language_info": {
   "codemirror_mode": {
    "name": "ipython",
    "version": 3
   },
   "file_extension": ".py",
   "mimetype": "text/x-python",
   "name": "python",
   "nbconvert_exporter": "python",
   "pygments_lexer": "ipython3",
   "version": "3.10.0"
  },
  "papermill": {
   "default_parameters": {},
   "duration": 62.611797,
   "end_time": "2022-02-09T14:50:20.842959",
   "environment_variables": {},
   "exception": null,
   "input_path": "__notebook__.ipynb",
   "output_path": "__notebook__.ipynb",
   "parameters": {},
   "start_time": "2022-02-09T14:49:18.231162",
   "version": "2.3.3"
  }
 },
 "nbformat": 4,
 "nbformat_minor": 5
}
